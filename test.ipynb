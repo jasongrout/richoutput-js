{
 "cells": [
  {
   "cell_type": "code",
   "execution_count": 7,
   "id": "eed83c2b-ce91-4456-907c-7248d5fd0f7b",
   "metadata": {},
   "outputs": [],
   "source": [
    "from IPython.display import DisplayObject\n",
    "import base64\n",
    "\n",
    "class ESModule(DisplayObject):\n",
    "    _MIME_TYPE = 'application/vnd.jupyter.esm-rich-output'\n",
    "    \n",
    "    def __init__(self, module=None, url=None):\n",
    "        if module and url:\n",
    "            raise ValueError('Cannot specify both module and url')\n",
    "        if not module and not url:\n",
    "            raise ValueError('Must specify either module or url')\n",
    "        if module:\n",
    "            url = 'data:text/javascript;base64,' + base64.b64encode(module.encode('utf-8')).decode('utf-8') \n",
    "        self._url = url\n",
    "        self.data = {}\n",
    "    \n",
    "    def _repr_mimebundle_(self, include=None, exclude=None):\n",
    "        mime_bundle = {} \n",
    "        mime_bundle[ExtensibleModule._MIME_TYPE] = self._url\n",
    "        for key in self.data.keys():\n",
    "            mime_bundle[key] = self.data[key]\n",
    "        return mime_bundle"
   ]
  },
  {
   "cell_type": "code",
   "execution_count": 9,
   "id": "4880822a-ea47-4114-a6b1-12176e469bde",
   "metadata": {},
   "outputs": [
    {
     "data": {
      "application/vnd.jupyter.esm-rich-output": "data:text/javascript;base64,CmV4cG9ydCBmdW5jdGlvbiByZW5kZXIob3V0cHV0LCBlbGVtZW50KSB7CiAgICBjb25zdCBkaXYgPSBkb2N1bWVudC5jcmVhdGVFbGVtZW50KCdkaXYnKTsKICAgIGRpdi5zdHlsZS5iYWNrZ3JvdW5kID0gJ2xpbWUnOwogICAgZGl2LnRleHRDb250ZW50ID0gJ3Bhc3NlZCc7CiAgICBlbGVtZW50LmFwcGVuZENoaWxkKGRpdik7Cn0K",
      "text/plain": [
       "<__main__.ESModule object>"
      ]
     },
     "execution_count": 9,
     "metadata": {},
     "output_type": "execute_result"
    }
   ],
   "source": [
    "ESModule(module='''\n",
    "export function render(output, element) {\n",
    "    const div = document.createElement('div');\n",
    "    div.style.background = 'lime';\n",
    "    div.textContent = 'passed';\n",
    "    element.appendChild(div);\n",
    "}\n",
    "''')"
   ]
  },
  {
   "cell_type": "code",
   "execution_count": 14,
   "id": "bec419a9-0186-4e31-817a-04853636f747",
   "metadata": {},
   "outputs": [
    {
     "data": {
      "application/javascript": [
       "window.nextOutputRendered = false"
      ],
      "text/plain": [
       "<IPython.core.display.Javascript object>"
      ]
     },
     "metadata": {},
     "output_type": "display_data"
    },
    {
     "data": {
      "application/vnd.jupyter.esm-rich-output": "data:text/javascript;base64,CmV4cG9ydCBhc3luYyBmdW5jdGlvbiByZW5kZXIob3V0cHV0LCBlbGVtZW50KSB7CiAgICBjb25zdCBwcm9taXNlID0gbmV3IFByb21pc2UoKHJlc29sdmUpID0+IHNldFRpbWVvdXQocmVzb2x2ZSwgMTAwMCkpOwogICAgYXdhaXQgcHJvbWlzZTsKICAgIGlmICh3aW5kb3cubmV4dE91dHB1dFJlbmRlcmVkKSB7CiAgICAgICAgY29uc3QgZGl2ID0gZG9jdW1lbnQuY3JlYXRlRWxlbWVudCgnZGl2Jyk7CiAgICAgICAgZGl2LnN0eWxlLmJhY2tncm91bmQgPSAncmVkJzsKICAgICAgICBkaXYudGV4dENvbnRlbnQgPSAnZmFpbGVkOiBleHBlY3RlZCBzdWJzZXF1ZW50IG91dHB1dHMgdG8gd2FpdCBmb3IgdGhpcy4nOwogICAgICAgIGVsZW1lbnQuYXBwZW5kQ2hpbGQoZGl2KTsKICAgIH0gZWxzZSB7CiAgICAgICAgY29uc3QgZGl2ID0gZG9jdW1lbnQuY3JlYXRlRWxlbWVudCgnZGl2Jyk7CiAgICAgICAgZGl2LnN0eWxlLmJhY2tncm91bmQgPSAnIzg4RkY4OCc7CiAgICAgICAgZGl2LnRleHRDb250ZW50ID0gJ3Bhc3NlZCc7CiAgICAgICAgZWxlbWVudC5hcHBlbmRDaGlsZChkaXYpOwogICAgfQp9Cg==",
      "text/plain": [
       "<__main__.ESModule object>"
      ]
     },
     "metadata": {},
     "output_type": "display_data"
    },
    {
     "data": {
      "application/javascript": [
       "window.nextOutputRendered = true"
      ],
      "text/plain": [
       "<IPython.core.display.Javascript object>"
      ]
     },
     "metadata": {},
     "output_type": "display_data"
    }
   ],
   "source": [
    "\n",
    "from IPython.display import Javascript\n",
    "display(Javascript('window.nextOutputRendered = false'))\n",
    "display(ESModule(module='''\n",
    "export async function render(output, element) {\n",
    "    const promise = new Promise((resolve) => setTimeout(resolve, 1000));\n",
    "    await promise;\n",
    "    if (window.nextOutputRendered) {\n",
    "        const div = document.createElement('div');\n",
    "        div.style.background = 'red';\n",
    "        div.textContent = 'failed: expected subsequent outputs to wait for this.';\n",
    "        element.appendChild(div);\n",
    "    } else {\n",
    "        const div = document.createElement('div');\n",
    "        div.style.background = '#88FF88';\n",
    "        div.textContent = 'passed';\n",
    "        element.appendChild(div);\n",
    "    }\n",
    "}\n",
    "'''))\n",
    "display(Javascript('window.nextOutputRendered = true'))"
   ]
  },
  {
   "cell_type": "code",
   "execution_count": 15,
   "id": "a7484f99-6f69-4371-9855-e2b0f156ae62",
   "metadata": {},
   "outputs": [
    {
     "data": {
      "application/vnd.jupyter.esm-rich-output": "data:text/javascript;base64,CmV4cG9ydCBmdW5jdGlvbiByZW5kZXIob3V0cHV0LCBlbGVtZW50KSB7CiAgICBjb25zdCBwbGFpblRleHQgPSBvdXRwdXQuZGF0YVsndGV4dC9wbGFpbiddOwogICAgaWYgKHBsYWluVGV4dCAhPSAndGhlIHRleHQgdmFsdWUnKSB7CiAgICAgICAgY29uc3QgZGl2ID0gZG9jdW1lbnQuY3JlYXRlRWxlbWVudCgnZGl2Jyk7CiAgICAgICAgZGl2LnN0eWxlLmJhY2tncm91bmQgPSAncmVkJzsKICAgICAgICBkaXYudGV4dENvbnRlbnQgPSBgRXhwZWN0ZWQgdGhlIHRleHQgdG8gYmUgInRoZSB0ZXh0IHZhbHVlIiBidXQgd2FzICR7cGxhaW5UZXh0fWA7CiAgICAgICAgZWxlbWVudC5hcHBlbmRDaGlsZChkaXYpOwogICAgfSBlbHNlIHsKICAgICAgICBjb25zdCBkaXYgPSBkb2N1bWVudC5jcmVhdGVFbGVtZW50KCdkaXYnKTsKICAgICAgICBkaXYuc3R5bGUuYmFja2dyb3VuZCA9ICdsaW1lJzsKICAgICAgICBkaXYudGV4dENvbnRlbnQgPSAncGFzc2VkJzsKICAgICAgICBlbGVtZW50LmFwcGVuZENoaWxkKGRpdik7CiAgICB9Cn0K",
      "text/plain": [
       "the text value"
      ]
     },
     "execution_count": 15,
     "metadata": {},
     "output_type": "execute_result"
    }
   ],
   "source": [
    "data = ESModule(module='''\n",
    "export function render(output, element) {\n",
    "    const plainText = output.data['text/plain'];\n",
    "    if (plainText != 'the text value') {\n",
    "        const div = document.createElement('div');\n",
    "        div.style.background = 'red';\n",
    "        div.textContent = `Expected the text to be \"the text value\" but was ${plainText}`;\n",
    "        element.appendChild(div);\n",
    "    } else {\n",
    "        const div = document.createElement('div');\n",
    "        div.style.background = 'lime';\n",
    "        div.textContent = 'passed';\n",
    "        element.appendChild(div);\n",
    "    }\n",
    "}\n",
    "''')\n",
    "data.data['text/plain'] = 'the text value'\n",
    "data"
   ]
  }
 ],
 "metadata": {
  "kernelspec": {
   "display_name": "Python 3 (ipykernel)",
   "language": "python",
   "name": "python3"
  },
  "language_info": {
   "codemirror_mode": {
    "name": "ipython",
    "version": 3
   },
   "file_extension": ".py",
   "mimetype": "text/x-python",
   "name": "python",
   "nbconvert_exporter": "python",
   "pygments_lexer": "ipython3",
   "version": "3.10.6"
  }
 },
 "nbformat": 4,
 "nbformat_minor": 5
}
