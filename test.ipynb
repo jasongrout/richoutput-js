{
 "cells": [
  {
   "cell_type": "code",
   "execution_count": 1,
   "id": "eed83c2b-ce91-4456-907c-7248d5fd0f7b",
   "metadata": {},
   "outputs": [],
   "source": [
    "from IPython.display import DisplayObject\n",
    "import base64\n",
    "\n",
    "class ES6Module(DisplayObject):\n",
    "    _MIME_TYPE = 'application/vnd.jupyter.es6-rich-output'\n",
    "    \n",
    "    def __init__(self, module=None, url=None):\n",
    "        if module and url:\n",
    "            raise ValueError('Cannot specify both module and url')\n",
    "        if not module and not url:\n",
    "            raise ValueError('Must specify either module or url')\n",
    "        if module:\n",
    "            url = 'data:text/javascript;base64,' + base64.b64encode(module.encode('utf-8')).decode('utf-8') \n",
    "        self._url = url\n",
    "        self.data = {}\n",
    "    \n",
    "    def _repr_mimebundle_(self, include=None, exclude=None):\n",
    "        mime_bundle = {} \n",
    "        mime_bundle[ES6Module._MIME_TYPE] = self._url\n",
    "        for key in self.data.keys():\n",
    "            mime_bundle[key] = self.data[key]\n",
    "        return mime_bundle"
   ]
  },
  {
   "cell_type": "code",
   "execution_count": 2,
   "id": "4880822a-ea47-4114-a6b1-12176e469bde",
   "metadata": {},
   "outputs": [
    {
     "data": {
      "application/vnd.jupyter.es6-rich-output": "data:text/javascript;base64,CmV4cG9ydCBmdW5jdGlvbiByZW5kZXIob3V0cHV0LCBlbGVtZW50KSB7CiAgICBjb25zdCBkaXYgPSBkb2N1bWVudC5jcmVhdGVFbGVtZW50KCdkaXYnKTsKICAgIGRpdi5zdHlsZS5iYWNrZ3JvdW5kID0gJ2xpbWUnOwogICAgZGl2LnRleHRDb250ZW50ID0gJ3Bhc3NlZCc7CiAgICBlbGVtZW50LmFwcGVuZENoaWxkKGRpdik7Cn0K",
      "text/plain": [
       "<__main__.ES6Module object>"
      ]
     },
     "execution_count": 2,
     "metadata": {},
     "output_type": "execute_result"
    }
   ],
   "source": [
    "ES6Module(module='''\n",
    "export function render(output, element) {\n",
    "    const div = document.createElement('div');\n",
    "    div.style.background = 'lime';\n",
    "    div.textContent = 'passed';\n",
    "    element.appendChild(div);\n",
    "}\n",
    "''')"
   ]
  },
  {
   "cell_type": "code",
   "execution_count": 3,
   "id": "bec419a9-0186-4e31-817a-04853636f747",
   "metadata": {},
   "outputs": [
    {
     "data": {
      "application/javascript": [
       "window.nextOutputRendered = false"
      ],
      "text/plain": [
       "<IPython.core.display.Javascript object>"
      ]
     },
     "metadata": {},
     "output_type": "display_data"
    },
    {
     "data": {
      "application/vnd.jupyter.es6-rich-output": "data:text/javascript;base64,CmV4cG9ydCBhc3luYyBmdW5jdGlvbiByZW5kZXIob3V0cHV0LCBlbGVtZW50KSB7CiAgICBjb25zdCBwcm9taXNlID0gbmV3IFByb21pc2UoKHJlc29sdmUpID0+IHNldFRpbWVvdXQocmVzb2x2ZSwgMTAwMCkpOwogICAgYXdhaXQgcHJvbWlzZTsKICAgIGlmICh3aW5kb3cubmV4dE91dHB1dFJlbmRlcmVkKSB7CiAgICAgICAgY29uc3QgZGl2ID0gZG9jdW1lbnQuY3JlYXRlRWxlbWVudCgnZGl2Jyk7CiAgICAgICAgZGl2LnN0eWxlLmJhY2tncm91bmQgPSAncmVkJzsKICAgICAgICBkaXYudGV4dENvbnRlbnQgPSAnZmFpbGVkOiBleHBlY3RlZCBzdWJzZXF1ZW50IG91dHB1dHMgdG8gd2FpdCBmb3IgdGhpcy4nOwogICAgICAgIGVsZW1lbnQuYXBwZW5kQ2hpbGQoZGl2KTsKICAgIH0gZWxzZSB7CiAgICAgICAgY29uc3QgZGl2ID0gZG9jdW1lbnQuY3JlYXRlRWxlbWVudCgnZGl2Jyk7CiAgICAgICAgZGl2LnN0eWxlLmJhY2tncm91bmQgPSAnbGltZSc7CiAgICAgICAgZGl2LnRleHRDb250ZW50ID0gJ3Bhc3NlZCc7CiAgICAgICAgZWxlbWVudC5hcHBlbmRDaGlsZChkaXYpOwogICAgfQp9Cg==",
      "text/plain": [
       "<__main__.ES6Module object>"
      ]
     },
     "metadata": {},
     "output_type": "display_data"
    },
    {
     "data": {
      "application/javascript": [
       "window.nextOutputRendered = true"
      ],
      "text/plain": [
       "<IPython.core.display.Javascript object>"
      ]
     },
     "metadata": {},
     "output_type": "display_data"
    }
   ],
   "source": [
    "from IPython.display import Javascript\n",
    "display(Javascript('window.nextOutputRendered = false'))\n",
    "display(ES6Module(module='''\n",
    "export async function render(output, element) {\n",
    "    const promise = new Promise((resolve) => setTimeout(resolve, 1000));\n",
    "    await promise;\n",
    "    if (window.nextOutputRendered) {\n",
    "        const div = document.createElement('div');\n",
    "        div.style.background = 'red';\n",
    "        div.textContent = 'failed: expected subsequent outputs to wait for this.';\n",
    "        element.appendChild(div);\n",
    "    } else {\n",
    "        const div = document.createElement('div');\n",
    "        div.style.background = 'lime';\n",
    "        div.textContent = 'passed';\n",
    "        element.appendChild(div);\n",
    "    }\n",
    "}\n",
    "'''))\n",
    "display(Javascript('window.nextOutputRendered = true'))"
   ]
  },
  {
   "cell_type": "code",
   "execution_count": 4,
   "id": "a7484f99-6f69-4371-9855-e2b0f156ae62",
   "metadata": {},
   "outputs": [
    {
     "data": {
      "application/vnd.jupyter.es6-rich-output": "data:text/javascript;base64,CmV4cG9ydCBmdW5jdGlvbiByZW5kZXIob3V0cHV0LCBlbGVtZW50KSB7CiAgICBjb25zdCBwbGFpblRleHQgPSBvdXRwdXQuZGF0YVsndGV4dC9wbGFpbiddOwogICAgaWYgKHBsYWluVGV4dCAhPSAndGhlIHRleHQgdmFsdWUnKSB7CiAgICAgICAgY29uc3QgZGl2ID0gZG9jdW1lbnQuY3JlYXRlRWxlbWVudCgnZGl2Jyk7CiAgICAgICAgZGl2LnN0eWxlLmJhY2tncm91bmQgPSAncmVkJzsKICAgICAgICBkaXYudGV4dENvbnRlbnQgPSBgRXhwZWN0ZWQgdGhlIHRleHQgdG8gYmUgInRoZSB0ZXh0IHZhbHVlIiBidXQgd2FzICR7cGxhaW5UZXh0fWA7CiAgICAgICAgZWxlbWVudC5hcHBlbmRDaGlsZChkaXYpOwogICAgfSBlbHNlIHsKICAgICAgICBjb25zdCBkaXYgPSBkb2N1bWVudC5jcmVhdGVFbGVtZW50KCdkaXYnKTsKICAgICAgICBkaXYuc3R5bGUuYmFja2dyb3VuZCA9ICdsaW1lJzsKICAgICAgICBkaXYudGV4dENvbnRlbnQgPSAncGFzc2VkJzsKICAgICAgICBlbGVtZW50LmFwcGVuZENoaWxkKGRpdik7CiAgICB9Cn0K",
      "text/plain": [
       "the text value"
      ]
     },
     "execution_count": 4,
     "metadata": {},
     "output_type": "execute_result"
    }
   ],
   "source": [
    "data = ES6Module(module='''\n",
    "export function render(output, element) {\n",
    "    const plainText = output.data['text/plain'];\n",
    "    if (plainText != 'the text value') {\n",
    "        const div = document.createElement('div');\n",
    "        div.style.background = 'red';\n",
    "        div.textContent = `Expected the text to be \"the text value\" but was ${plainText}`;\n",
    "        element.appendChild(div);\n",
    "    } else {\n",
    "        const div = document.createElement('div');\n",
    "        div.style.background = 'lime';\n",
    "        div.textContent = 'passed';\n",
    "        element.appendChild(div);\n",
    "    }\n",
    "}\n",
    "''')\n",
    "data.data['text/plain'] = 'the text value'\n",
    "data"
   ]
  },
  {
   "cell_type": "markdown",
   "id": "d1bb1740-b9d5-470a-8e12-2e8109799a99",
   "metadata": {},
   "source": [
    "# Validate that the members of the context do not include anything extra"
   ]
  },
  {
   "cell_type": "code",
   "execution_count": 48,
   "id": "2961dadf-aad7-4c45-bbc4-65fce5ff4318",
   "metadata": {},
   "outputs": [
    {
     "data": {
      "application/vnd.jupyter.es6-rich-output": "data:text/javascript;base64,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",
      "text/plain": [
       "<__main__.ES6Module object>"
      ]
     },
     "execution_count": 48,
     "metadata": {},
     "output_type": "execute_result"
    }
   ],
   "source": [
    "ES6Module(module='''\n",
    "export function render(output, element, context) {\n",
    "    const expected = {\n",
    "        getModelState: () => {},\n",
    "        comms: {\n",
    "            open: () => {},\n",
    "            registerTarget: () => {},\n",
    "        },\n",
    "    };\n",
    "    let errorsReported = false;\n",
    "    validate(context, expected, 'context.', (error) => {\n",
    "        errorsReported = true;\n",
    "        const div = document.createElement('div');\n",
    "        div.style.background = 'red';\n",
    "        div.textContent = error;\n",
    "        element.appendChild(div);\n",
    "    });\n",
    "    if (!errorsReported) {\n",
    "        const div = document.createElement('div');\n",
    "        div.style.background = 'lime';\n",
    "        div.textContent = 'passed';\n",
    "        element.appendChild(div);\n",
    "    }\n",
    "}\n",
    "\n",
    "function getMembers(object) {\n",
    "    const members = new Set([...Object.getOwnPropertyNames(object)]);\n",
    "    const prototype = Object.getPrototypeOf(object);\n",
    "    if (prototype && prototype != Object.getPrototypeOf({})) {\n",
    "        return new Set([...members, ...getMembers(prototype)]);\n",
    "    }\n",
    "    return members;\n",
    "}\n",
    "\n",
    "function validate(actual, expected, prefix, recordError) {\n",
    "    const expectedKeys = new Set(Object.getOwnPropertyNames(expected));\n",
    "    const actualKeys = getMembers(actual);\n",
    "    for (const key of actualKeys) {\n",
    "        if (!expectedKeys.has(key)) {\n",
    "            recordError(`Unexpected key: ${prefix}${key}`);\n",
    "            continue;\n",
    "        }\n",
    "        const actualValue = actual[key];\n",
    "        const expectedValue = expected[key];\n",
    "        if (typeof actualValue === 'function' && typeof expectedValue === 'function') {\n",
    "            continue;\n",
    "        }\n",
    "        validate(actualValue, expectedValue, `${prefix}${key}.`, recordError);\n",
    "    }\n",
    "}\n",
    "''')"
   ]
  },
  {
   "cell_type": "markdown",
   "id": "f17acaef-c58f-4142-a073-a89d48d5a563",
   "metadata": {},
   "source": [
    "# Comms"
   ]
  },
  {
   "cell_type": "code",
   "execution_count": 5,
   "id": "9fec0b40-e933-4b90-b9ff-647abaac8c6a",
   "metadata": {},
   "outputs": [
    {
     "data": {
      "application/vnd.jupyter.es6-rich-output": "data:text/javascript;base64,CmV4cG9ydCBhc3luYyBmdW5jdGlvbiByZW5kZXIob3V0cHV0LCBlbGVtZW50LCBjb250ZXh0KSB7CiAgICBjb25zdCBidWZmZXIgPSBuZXcgVWludDhBcnJheSgxMCk7CiAgICBmb3IgKGxldCBpID0gMDsgaSA8IGJ1ZmZlci5ieXRlTGVuZ3RoOyArK2kpIHsKICAgICAgICBidWZmZXJbaV0gPSBpCiAgICB9CiAgICBjb25zdCBjaGFubmVsID0gYXdhaXQgY29udGV4dC5jb21tcy5vcGVuKCdjb21tX3RhcmdldCcsICd0aGUgZGF0YScsIFtidWZmZXIuYnVmZmVyXSk7CiAgICBsZXQgc3VjY2VzcyA9IGZhbHNlOwogICAgZm9yIGF3YWl0IChjb25zdCBtZXNzYWdlIG9mIGNoYW5uZWwubWVzc2FnZXMpIHsKICAgICAgICBpZiAobWVzc2FnZS5kYXRhLnJlc3BvbnNlID09ICdnb3QgY29tbSBvcGVuIScpIHsKICAgICAgICAgICAgaWYgKCEobWVzc2FnZS5idWZmZXJzWzBdIGluc3RhbmNlb2YgQXJyYXlCdWZmZXIpKSB7CiAgICAgICAgICAgICAgICB0aHJvdyBuZXcgRXJyb3IoJ0J1ZmZlciBpcyBub3QgYW4gQXJyYXlCdWZmZXInKTsgICAgCiAgICAgICAgICAgIH0KICAgICAgICAgICAgY29uc3QgcmVzcG9uc2VCdWZmZXIgPSBuZXcgVWludDhBcnJheShtZXNzYWdlLmJ1ZmZlcnNbMF0pOwogICAgICAgICAgICBmb3IgKGxldCBpID0gMDsgaSA8IGJ1ZmZlci5sZW5ndGg7ICsraSkgewogICAgICAgICAgICAgICBpZiAocmVzcG9uc2VCdWZmZXJbaV0gIT0gYnVmZmVyW2ldKSB7CiAgICAgICAgICAgICAgICAgICB0aHJvdyBuZXcgRXJyb3IoJ2NvbW0gYnVmZmVyIGRpZmZlcmVudCBhdCAnICsgaSk7CiAgICAgICAgICAgICAgICAgICByZXR1cm47CiAgICAgICAgICAgICAgIH0KICAgICAgICAgICAgfQogICAgICAgICAgICAvLyBDbG9zZSB0aGUgY2hhbm5lbCBvbmNlIHRoZSBleHBlY3RlZCBtZXNzYWdlIGlzIHJlY2VpdmVkLiBUaGlzIHNob3VsZAogICAgICAgICAgICAvLyBjYXVzZSB0aGUgbWVzc2FnZXMgaXRlcmF0b3IgdG8gY29tcGxldGUgYW5kIGZvciB0aGUgZm9yLWF3YWl0IGxvb3AgdG8KICAgICAgICAgICAgLy8gZW5kLgogICAgICAgICAgICBjaGFubmVsLmNsb3NlKCk7CiAgICAgICAgfQogICAgfQogICAgY29uc3QgZGl2ID0gZG9jdW1lbnQuY3JlYXRlRWxlbWVudCgnZGl2Jyk7CiAgICBkaXYuc3R5bGUuYmFja2dyb3VuZCA9ICdsaW1lJzsKICAgIGRpdi50ZXh0Q29udGVudCA9ICdwYXNzZWQnOwogICAgZWxlbWVudC5hcHBlbmRDaGlsZChkaXYpOwp9Cg==",
      "text/plain": [
       "<__main__.ES6Module object>"
      ]
     },
     "execution_count": 5,
     "metadata": {},
     "output_type": "execute_result"
    }
   ],
   "source": [
    "def target_func(comm, msg):\n",
    "    # Only send the response if it's the data we are expecting.\n",
    "    if msg['content']['data'] == 'the data':\n",
    "        comm.send({'response': 'got comm open!',}, None, msg['buffers']);\n",
    "get_ipython().kernel.comm_manager.register_target('comm_target', target_func)\n",
    "\n",
    "ES6Module(module='''\n",
    "export async function render(output, element, context) {\n",
    "    const buffer = new Uint8Array(10);\n",
    "    for (let i = 0; i < buffer.byteLength; ++i) {\n",
    "        buffer[i] = i\n",
    "    }\n",
    "    const channel = await context.comms.open('comm_target', 'the data', [buffer.buffer]);\n",
    "    let success = false;\n",
    "    for await (const message of channel.messages) {\n",
    "        if (message.data.response == 'got comm open!') {\n",
    "            if (!(message.buffers[0] instanceof ArrayBuffer)) {\n",
    "                throw new Error('Buffer is not an ArrayBuffer');    \n",
    "            }\n",
    "            const responseBuffer = new Uint8Array(message.buffers[0]);\n",
    "            for (let i = 0; i < buffer.length; ++i) {\n",
    "               if (responseBuffer[i] != buffer[i]) {\n",
    "                   throw new Error('comm buffer different at ' + i);\n",
    "                   return;\n",
    "               }\n",
    "            }\n",
    "            // Close the channel once the expected message is received. This should\n",
    "            // cause the messages iterator to complete and for the for-await loop to\n",
    "            // end.\n",
    "            channel.close();\n",
    "        }\n",
    "    }\n",
    "    const div = document.createElement('div');\n",
    "    div.style.background = 'lime';\n",
    "    div.textContent = 'passed';\n",
    "    element.appendChild(div);\n",
    "}\n",
    "''')"
   ]
  },
  {
   "cell_type": "code",
   "execution_count": 9,
   "id": "eb23158d-2b55-4c4e-b514-988bbd51bb12",
   "metadata": {},
   "outputs": [
    {
     "data": {
      "application/vnd.jupyter.es6-rich-output": "data:text/javascript;base64,CmV4cG9ydCBhc3luYyBmdW5jdGlvbiByZW5kZXIob3V0cHV0LCBlbGVtZW50LCBjb250ZXh0KSB7CiAgICBjb250ZXh0LmNvbW1zLnJlZ2lzdGVyVGFyZ2V0KCdjb21tc190ZXN0aW5nJywgKGNvbW0sIGRhdGEsIGJ1ZmZlcnMpID0+IHsKICAgICAgICBjb21tLnNlbmQoJ3RoaXMgaXMgdGhlIHJlc3BvbnNlJywge2J1ZmZlcnM6IGJ1ZmZlcnN9KTsKICAgIAogICAgICAgIGNvbnN0IGRpdiA9IGRvY3VtZW50LmNyZWF0ZUVsZW1lbnQoJ2RpdicpOwogICAgICAgIGRpdi5zdHlsZS5iYWNrZ3JvdW5kID0gJ2xpbWUnOwogICAgICAgIGRpdi50ZXh0Q29udGVudCA9ICdwYXNzZWQnOwogICAgICAgIGVsZW1lbnQuYXBwZW5kQ2hpbGQoZGl2KTsKICAgIH0pOwp9Cg==",
      "text/plain": [
       "<__main__.ES6Module object>"
      ]
     },
     "metadata": {},
     "output_type": "display_data"
    }
   ],
   "source": [
    "from ipykernel.comm import Comm\n",
    "\n",
    "display(ES6Module(module='''\n",
    "export async function render(output, element, context) {\n",
    "    context.comms.registerTarget('comms_testing', (comm, data, buffers) => {\n",
    "        comm.send('this is the response', {buffers: buffers});\n",
    "    \n",
    "        const div = document.createElement('div');\n",
    "        div.style.background = 'lime';\n",
    "        div.textContent = 'passed';\n",
    "        element.appendChild(div);\n",
    "    });\n",
    "}\n",
    "'''))\n",
    "\n",
    "\n",
    "buffer = b'hello world'\n",
    "comm = Comm(target_name='comms_testing', data={'foo': 1}, buffers=[buffer])\n",
    "\n",
    "message = None\n",
    "def handle_message(msg):\n",
    "    global message\n",
    "    message = msg\n",
    "\n",
    "comm.on_msg(handle_message)"
   ]
  },
  {
   "cell_type": "code",
   "execution_count": 10,
   "id": "3580380a-6636-40da-8df1-6e1c26cf752a",
   "metadata": {},
   "outputs": [],
   "source": [
    "assert message['content']['data'] == 'this is the response'\n",
    "assert str(message['buffers'][0].tobytes()) == str(buffer)"
   ]
  }
 ],
 "metadata": {
  "kernelspec": {
   "display_name": "Python 3",
   "language": "python",
   "name": "python3"
  },
  "language_info": {
   "codemirror_mode": {
    "name": "ipython",
    "version": 3
   },
   "file_extension": ".py",
   "mimetype": "text/x-python",
   "name": "python",
   "nbconvert_exporter": "python",
   "pygments_lexer": "ipython3",
   "version": "3.10.7"
  }
 },
 "nbformat": 4,
 "nbformat_minor": 5
}
