{
 "cells": [
  {
   "cell_type": "code",
   "execution_count": 1,
   "id": "eed83c2b-ce91-4456-907c-7248d5fd0f7b",
   "metadata": {
    "tags": []
   },
   "outputs": [],
   "source": [
    "from IPython.display import DisplayObject\n",
    "import base64\n",
    "\n",
    "class ES6Module(DisplayObject):\n",
    "    _MIME_TYPE = 'application/vnd.jupyter.es6-rich-output'\n",
    "    \n",
    "    def __init__(self, module=None, url=None):\n",
    "        if module and url:\n",
    "            raise ValueError('Cannot specify both module and url')\n",
    "        if not module and not url:\n",
    "            raise ValueError('Must specify either module or url')\n",
    "        if module:\n",
    "            url = 'data:text/javascript;base64,' + base64.b64encode(module.encode('utf-8')).decode('utf-8') \n",
    "        self._url = url\n",
    "        self.data = {}\n",
    "    \n",
    "    def _repr_mimebundle_(self, include=None, exclude=None):\n",
    "        mime_bundle = {} \n",
    "        mime_bundle[ES6Module._MIME_TYPE] = self._url\n",
    "        for key in self.data.keys():\n",
    "            mime_bundle[key] = self.data[key]\n",
    "        return mime_bundle"
   ]
  },
  {
   "cell_type": "markdown",
   "id": "43b25734-919b-4304-84d0-8dd06d08a809",
   "metadata": {
    "tags": []
   },
   "source": [
    "## `render` function can write to element"
   ]
  },
  {
   "cell_type": "code",
   "execution_count": 2,
   "id": "4880822a-ea47-4114-a6b1-12176e469bde",
   "metadata": {
    "tags": []
   },
   "outputs": [
    {
     "data": {
      "application/vnd.jupyter.es6-rich-output": "data:text/javascript;base64,CmV4cG9ydCBmdW5jdGlvbiByZW5kZXIob3V0cHV0LCBlbGVtZW50KSB7CiAgICBjb25zdCBkaXYgPSBkb2N1bWVudC5jcmVhdGVFbGVtZW50KCdkaXYnKTsKICAgIGRpdi5zdHlsZS5iYWNrZ3JvdW5kID0gJ2xpbWUnOwogICAgZGl2LnRleHRDb250ZW50ID0gJ3Bhc3NlZCc7CiAgICBlbGVtZW50LmFwcGVuZENoaWxkKGRpdik7Cn0K",
      "text/plain": [
       "<__main__.ES6Module object>"
      ]
     },
     "execution_count": 2,
     "metadata": {},
     "output_type": "execute_result"
    }
   ],
   "source": [
    "ES6Module(module='''\n",
    "export function render(output, element) {\n",
    "    const div = document.createElement('div');\n",
    "    div.style.background = 'lime';\n",
    "    div.textContent = 'passed';\n",
    "    element.appendChild(div);\n",
    "}\n",
    "''')"
   ]
  },
  {
   "cell_type": "markdown",
   "id": "dac82a55-eeb3-4efb-84b8-57bba9eddfa4",
   "metadata": {
    "tags": []
   },
   "source": [
    "## Render function finishes before rendering next output (failing)"
   ]
  },
  {
   "cell_type": "code",
   "execution_count": 3,
   "id": "bec419a9-0186-4e31-817a-04853636f747",
   "metadata": {
    "tags": []
   },
   "outputs": [
    {
     "data": {
      "application/javascript": [
       "window.nextOutputRendered = false; console.log(\"Set rendered output false\")"
      ],
      "text/plain": [
       "<IPython.core.display.Javascript object>"
      ]
     },
     "metadata": {},
     "output_type": "display_data"
    },
    {
     "data": {
      "application/vnd.jupyter.es6-rich-output": "data:text/javascript;base64,CmV4cG9ydCBhc3luYyBmdW5jdGlvbiByZW5kZXIob3V0cHV0LCBlbGVtZW50KSB7CiAgICBjb25zdCBwcm9taXNlID0gbmV3IFByb21pc2UoKHJlc29sdmUpID0+IHNldFRpbWVvdXQocmVzb2x2ZSwgMTAwMCkpOwogICAgYXdhaXQgcHJvbWlzZTsKICAgIGNvbnNvbGUubG9nKCJIRVJFMTIzIikKICAgIGlmICh3aW5kb3cubmV4dE91dHB1dFJlbmRlcmVkKSB7CiAgICAgICAgY29uc3QgZGl2ID0gZG9jdW1lbnQuY3JlYXRlRWxlbWVudCgnZGl2Jyk7CiAgICAgICAgZGl2LnN0eWxlLmJhY2tncm91bmQgPSAncmVkJzsKICAgICAgICBkaXYudGV4dENvbnRlbnQgPSAnZmFpbGVkOiBleHBlY3RlZCBzdWJzZXF1ZW50IG91dHB1dHMgdG8gd2FpdCBmb3IgdGhpcy4nOwogICAgICAgIGVsZW1lbnQuYXBwZW5kQ2hpbGQoZGl2KTsKICAgIH0gZWxzZSB7CiAgICAgICAgY29uc3QgZGl2ID0gZG9jdW1lbnQuY3JlYXRlRWxlbWVudCgnZGl2Jyk7CiAgICAgICAgZGl2LnN0eWxlLmJhY2tncm91bmQgPSAnbGltZSc7CiAgICAgICAgZGl2LnRleHRDb250ZW50ID0gJ3Bhc3NlZCc7CiAgICAgICAgZWxlbWVudC5hcHBlbmRDaGlsZChkaXYpOwogICAgfQp9Cg==",
      "text/plain": [
       "<__main__.ES6Module object>"
      ]
     },
     "metadata": {},
     "output_type": "display_data"
    },
    {
     "data": {
      "application/javascript": [
       "window.nextOutputRendered = true; console.log(\"Set rendered output true\")"
      ],
      "text/plain": [
       "<IPython.core.display.Javascript object>"
      ]
     },
     "metadata": {},
     "output_type": "display_data"
    }
   ],
   "source": [
    "from IPython.display import Javascript\n",
    "display(Javascript('window.nextOutputRendered = false; console.log(\"Set rendered output false\")'))\n",
    "display(ES6Module(module='''\n",
    "export async function render(output, element) {\n",
    "    const promise = new Promise((resolve) => setTimeout(resolve, 1000));\n",
    "    await promise;\n",
    "    console.log(\"HERE123\")\n",
    "    if (window.nextOutputRendered) {\n",
    "        const div = document.createElement('div');\n",
    "        div.style.background = 'red';\n",
    "        div.textContent = 'failed: expected subsequent outputs to wait for this.';\n",
    "        element.appendChild(div);\n",
    "    } else {\n",
    "        const div = document.createElement('div');\n",
    "        div.style.background = 'lime';\n",
    "        div.textContent = 'passed';\n",
    "        element.appendChild(div);\n",
    "    }\n",
    "}\n",
    "'''))\n",
    "display(Javascript('window.nextOutputRendered = true; console.log(\"Set rendered output true\")'))"
   ]
  },
  {
   "cell_type": "markdown",
   "id": "c09274f4-9691-45d0-b17b-490dc6d51b14",
   "metadata": {
    "tags": []
   },
   "source": [
    "## Render function has access to all output data"
   ]
  },
  {
   "cell_type": "code",
   "execution_count": 4,
   "id": "a7484f99-6f69-4371-9855-e2b0f156ae62",
   "metadata": {
    "tags": []
   },
   "outputs": [
    {
     "data": {
      "application/vnd.jupyter.es6-rich-output": "data:text/javascript;base64,CmV4cG9ydCBmdW5jdGlvbiByZW5kZXIob3V0cHV0LCBlbGVtZW50KSB7CiAgICBjb25zdCBwbGFpblRleHQgPSBvdXRwdXQuZGF0YVsndGV4dC9wbGFpbiddOwogICAgaWYgKHBsYWluVGV4dCAhPSAndGhlIHRleHQgdmFsdWUnKSB7CiAgICAgICAgY29uc3QgZGl2ID0gZG9jdW1lbnQuY3JlYXRlRWxlbWVudCgnZGl2Jyk7CiAgICAgICAgZGl2LnN0eWxlLmJhY2tncm91bmQgPSAncmVkJzsKICAgICAgICBkaXYudGV4dENvbnRlbnQgPSBgRXhwZWN0ZWQgdGhlIHRleHQgdG8gYmUgInRoZSB0ZXh0IHZhbHVlIiBidXQgd2FzICR7cGxhaW5UZXh0fWA7CiAgICAgICAgZWxlbWVudC5hcHBlbmRDaGlsZChkaXYpOwogICAgfSBlbHNlIHsKICAgICAgICBjb25zdCBkaXYgPSBkb2N1bWVudC5jcmVhdGVFbGVtZW50KCdkaXYnKTsKICAgICAgICBkaXYuc3R5bGUuYmFja2dyb3VuZCA9ICdsaW1lJzsKICAgICAgICBkaXYudGV4dENvbnRlbnQgPSAncGFzc2VkJzsKICAgICAgICBlbGVtZW50LmFwcGVuZENoaWxkKGRpdik7CiAgICB9Cn0K",
      "text/plain": [
       "the text value"
      ]
     },
     "execution_count": 4,
     "metadata": {},
     "output_type": "execute_result"
    }
   ],
   "source": [
    "data = ES6Module(module='''\n",
    "export function render(output, element) {\n",
    "    const plainText = output.data['text/plain'];\n",
    "    if (plainText != 'the text value') {\n",
    "        const div = document.createElement('div');\n",
    "        div.style.background = 'red';\n",
    "        div.textContent = `Expected the text to be \"the text value\" but was ${plainText}`;\n",
    "        element.appendChild(div);\n",
    "    } else {\n",
    "        const div = document.createElement('div');\n",
    "        div.style.background = 'lime';\n",
    "        div.textContent = 'passed';\n",
    "        element.appendChild(div);\n",
    "    }\n",
    "}\n",
    "''')\n",
    "data.data['text/plain'] = 'the text value'\n",
    "data"
   ]
  },
  {
   "cell_type": "markdown",
   "id": "d1bb1740-b9d5-470a-8e12-2e8109799a99",
   "metadata": {},
   "source": [
    "# Validate that the members of the context do not include anything extra"
   ]
  },
  {
   "cell_type": "code",
   "execution_count": 5,
   "id": "2961dadf-aad7-4c45-bbc4-65fce5ff4318",
   "metadata": {
    "tags": []
   },
   "outputs": [
    {
     "data": {
      "application/vnd.jupyter.es6-rich-output": "data:text/javascript;base64,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",
      "text/plain": [
       "<__main__.ES6Module object>"
      ]
     },
     "execution_count": 5,
     "metadata": {},
     "output_type": "execute_result"
    }
   ],
   "source": [
    "ES6Module(module='''\n",
    "const expected = {\n",
    "    comms: {\n",
    "        open: () => {},\n",
    "        registerTarget: () => {},\n",
    "    },\n",
    "};\n",
    "\n",
    "export function render(output, element, context) {\n",
    "    \n",
    "    let errorsReported = false;\n",
    "    validate(context, expected, 'context.', (error) => {\n",
    "        errorsReported = true;\n",
    "        const div = document.createElement('div');\n",
    "        div.style.background = 'red';\n",
    "        div.textContent = error;\n",
    "        element.appendChild(div);\n",
    "    });\n",
    "    if (!errorsReported) {\n",
    "        const div = document.createElement('div');\n",
    "        div.style.background = 'lime';\n",
    "        div.textContent = 'passed';\n",
    "        element.appendChild(div);\n",
    "    }\n",
    "}\n",
    "\n",
    "function getMembers(object) {\n",
    "    const members = new Set([...Object.getOwnPropertyNames(object)]);\n",
    "    const prototype = Object.getPrototypeOf(object);\n",
    "    if (prototype && prototype != Object.getPrototypeOf({})) {\n",
    "        return new Set([...members, ...getMembers(prototype)]);\n",
    "    }\n",
    "    return members;\n",
    "}\n",
    "\n",
    "function validate(actual, expected, prefix, recordError) {\n",
    "    const expectedKeys = new Set(Object.getOwnPropertyNames(expected));\n",
    "    const actualKeys = getMembers(actual);\n",
    "    \n",
    "    for (const key of actualKeys) {\n",
    "        console.log(\"CHECKING HERE1\")\n",
    "        if (!expectedKeys.has(key)) {\n",
    "            recordError(`Unexpected key: ${prefix}${key}`);\n",
    "            continue;\n",
    "        }\n",
    "        const actualValue = actual[key];\n",
    "        const expectedValue = expected[key];\n",
    "        if (typeof actualValue === 'function' && typeof expectedValue === 'function') {\n",
    "            continue;\n",
    "        }\n",
    "        validate(actualValue, expectedValue, `${prefix}${key}.`, recordError);\n",
    "    }\n",
    "    \n",
    "    for (const key of expectedKeys) {\n",
    "        if (!actualKeys.has(key)) {\n",
    "            recordError(`Missing key: ${prefix}${key}`);\n",
    "            continue;\n",
    "        }\n",
    "    }\n",
    "}\n",
    "''')"
   ]
  },
  {
   "cell_type": "markdown",
   "id": "f17acaef-c58f-4142-a073-a89d48d5a563",
   "metadata": {},
   "source": [
    "# Comms"
   ]
  },
  {
   "cell_type": "markdown",
   "id": "a6c9113a-2e8f-45a3-9861-fdd7570f094b",
   "metadata": {},
   "source": [
    "## Test comm.onMessage with comm registered in Python"
   ]
  },
  {
   "cell_type": "code",
   "execution_count": 5,
   "id": "9fec0b40-e933-4b90-b9ff-647abaac8c6a",
   "metadata": {
    "tags": []
   },
   "outputs": [
    {
     "data": {
      "application/vnd.jupyter.es6-rich-output": "data:text/javascript;base64,CmV4cG9ydCBhc3luYyBmdW5jdGlvbiByZW5kZXIob3V0cHV0LCBlbGVtZW50LCBjb250ZXh0KSB7CiAgICBjb25zdCBidWZmZXIgPSBuZXcgVWludDhBcnJheSgxMCk7CiAgICBmb3IgKGxldCBpID0gMDsgaSA8IGJ1ZmZlci5ieXRlTGVuZ3RoOyArK2kpIHsKICAgICAgICBidWZmZXJbaV0gPSBpCiAgICB9CiAgICBjb25zdCBjb21tID0gYXdhaXQgY29udGV4dC5jb21tcy5vcGVuKCdjb21tX3RhcmdldCcsICd0aGUgZGF0YScsIFtidWZmZXIuYnVmZmVyXSk7CiAgICBsZXQgc3VjY2VzcyA9IGZhbHNlOwogICAgY29tbS5vbk1lc3NhZ2UoKG1lc3NhZ2UpID0+IHsKICAgICAgICBpZiAobWVzc2FnZS5kYXRhLnJlc3BvbnNlID09ICdnb3QgY29tbSBvcGVuIScpIHsKICAgICAgICAgICAgaWYgKCEobWVzc2FnZS5idWZmZXJzWzBdIGluc3RhbmNlb2YgQXJyYXlCdWZmZXIpKSB7CiAgICAgICAgICAgICAgICB0aHJvdyBuZXcgRXJyb3IoJ0J1ZmZlciBpcyBub3QgYW4gQXJyYXlCdWZmZXInKTsgICAgCiAgICAgICAgICAgIH0KICAgICAgICAgICAgY29uc3QgcmVzcG9uc2VCdWZmZXIgPSBuZXcgVWludDhBcnJheShtZXNzYWdlLmJ1ZmZlcnNbMF0pOwogICAgICAgICAgICBmb3IgKGxldCBpID0gMDsgaSA8IGJ1ZmZlci5sZW5ndGg7ICsraSkgewogICAgICAgICAgICAgICBpZiAocmVzcG9uc2VCdWZmZXJbaV0gIT0gYnVmZmVyW2ldKSB7CiAgICAgICAgICAgICAgICAgICB0aHJvdyBuZXcgRXJyb3IoJ2NvbW0gYnVmZmVyIGRpZmZlcmVudCBhdCAnICsgaSk7CiAgICAgICAgICAgICAgICAgICByZXR1cm47CiAgICAgICAgICAgICAgIH0KICAgICAgICAgICAgfQogICAgICAgICAgICBzdWNjZXNzID0gdHJ1ZQogICAgICAgIH0KICAgIH0pCiAgICAKICAgIGF3YWl0IG5ldyBQcm9taXNlKHJlc29sdmUgPT4gc2V0VGltZW91dChyZXNvbHZlLCA1MDApKQoKICAgIGlmIChzdWNjZXNzKSB7CiAgICAgICAgY29uc3QgZGl2ID0gZG9jdW1lbnQuY3JlYXRlRWxlbWVudCgnZGl2Jyk7CiAgICAgICAgZGl2LnN0eWxlLmJhY2tncm91bmQgPSAnbGltZSc7CiAgICAgICAgZGl2LnRleHRDb250ZW50ID0gJ3Bhc3NlZCc7CiAgICAgICAgZWxlbWVudC5hcHBlbmRDaGlsZChkaXYpOwogICAgfSBlbHNlIHsKICAgICAgICBjb25zdCBkaXYgPSBkb2N1bWVudC5jcmVhdGVFbGVtZW50KCdkaXYnKTsKICAgICAgICBkaXYuc3R5bGUuYmFja2dyb3VuZCA9ICdyZWYnOwogICAgICAgIGRpdi50ZXh0Q29udGVudCA9ICdmYWlsZWQnOwogICAgICAgIGVsZW1lbnQuYXBwZW5kQ2hpbGQoZGl2KTsKICAgIH0KICAgIAp9Cg==",
      "text/plain": [
       "<__main__.ES6Module object>"
      ]
     },
     "execution_count": 5,
     "metadata": {},
     "output_type": "execute_result"
    }
   ],
   "source": [
    "def target_func(comm, msg):\n",
    "    # Only send the response if it's the data we are expecting.\n",
    "    if msg['content']['data'] == 'the data':\n",
    "        import time\n",
    "        time.sleep(1)\n",
    "        comm.send({'response': 'got comm open!',}, None, msg['buffers']);\n",
    "get_ipython().kernel.comm_manager.register_target('comm_target', target_func)\n",
    "\n",
    "ES6Module(module='''\n",
    "export async function render(output, element, context) {\n",
    "    const buffer = new Uint8Array(10);\n",
    "    for (let i = 0; i < buffer.byteLength; ++i) {\n",
    "        buffer[i] = i\n",
    "    }\n",
    "    const comm = await context.comms.open('comm_target', 'the data', [buffer.buffer]);\n",
    "    let success = false;\n",
    "    comm.onMessage((message) => {\n",
    "        if (message.data.response == 'got comm open!') {\n",
    "            if (!(message.buffers[0] instanceof ArrayBuffer)) {\n",
    "                throw new Error('Buffer is not an ArrayBuffer');    \n",
    "            }\n",
    "            const responseBuffer = new Uint8Array(message.buffers[0]);\n",
    "            for (let i = 0; i < buffer.length; ++i) {\n",
    "               if (responseBuffer[i] != buffer[i]) {\n",
    "                   throw new Error('comm buffer different at ' + i);\n",
    "                   return;\n",
    "               }\n",
    "            }\n",
    "            success = true\n",
    "        }\n",
    "    })\n",
    "    \n",
    "    await new Promise(resolve => setTimeout(resolve, 500))\n",
    "\n",
    "    if (success) {\n",
    "        const div = document.createElement('div');\n",
    "        div.style.background = 'lime';\n",
    "        div.textContent = 'passed';\n",
    "        element.appendChild(div);\n",
    "    } else {\n",
    "        const div = document.createElement('div');\n",
    "        div.style.background = 'ref';\n",
    "        div.textContent = 'failed';\n",
    "        element.appendChild(div);\n",
    "    }\n",
    "    \n",
    "}\n",
    "''')"
   ]
  },
  {
   "cell_type": "markdown",
   "id": "3ceb7d77-c4a4-4224-b166-74a58ba1d3f6",
   "metadata": {},
   "source": [
    "## Dispose of comm.onMessage"
   ]
  },
  {
   "cell_type": "code",
   "execution_count": 14,
   "id": "854d415b",
   "metadata": {
    "tags": []
   },
   "outputs": [
    {
     "data": {
      "application/vnd.jupyter.es6-rich-output": "data:text/javascript;base64,CmV4cG9ydCBhc3luYyBmdW5jdGlvbiByZW5kZXIob3V0cHV0LCBlbGVtZW50LCBjb250ZXh0KSB7CiAgICBjb25zdCBjb21tID0gYXdhaXQgY29udGV4dC5jb21tcy5vcGVuKCdjb21tX3RhcmdldCcsICd0aGUgZGF0YScpOwogICAgbGV0IG1lc3NhZ2VzUmVjZWl2ZWQgPSAwOwogICAgY29uc3Qgb25NZXNzYWdlRGlzcG9zZSA9IGNvbW0ub25NZXNzYWdlKChtZXNzYWdlKSA9PiB7CiAgICAgICAgbWVzc2FnZXNSZWNlaXZlZCArPSAxOwogICAgfSkKICAgIAogICAgb25NZXNzYWdlRGlzcG9zZSgpCiAgICAKICAgIC8vIFdhaXQgZm9yIGEgc2Vjb25kIHRvIGdldCBhbGwgbWVzc2FnZXMKICAgIGF3YWl0IG5ldyBQcm9taXNlKHJlc29sdmUgPT4gc2V0VGltZW91dChyZXNvbHZlLCA1MDApKQogICAgCiAgICBjb21tLnNlbmQoJ3Nob3VsZCBnZXQgYSByZXNwb25zZSBidXQgbm90IHNlZSBpdCcpCgogICAgY29uc3QgZGl2ID0gZG9jdW1lbnQuY3JlYXRlRWxlbWVudCgnZGl2Jyk7CiAgICBpZiAobWVzc2FnZXNSZWNlaXZlZCA8PSAxKSB7CiAgICAgICAgZGl2LnN0eWxlLmJhY2tncm91bmQgPSAnbGltZSc7CiAgICAgICAgZGl2LnRleHRDb250ZW50ID0gJ3Bhc3NlZCc7CiAgICB9IGVsc2UgewogICAgICAgIGRpdi5zdHlsZS5iYWNrZ3JvdW5kID0gJ3JlZCc7CiAgICAgICAgZGl2LnRleHRDb250ZW50ID0gJ2ZhaWxlZCc7CiAgICB9CiAgICBlbGVtZW50LmFwcGVuZENoaWxkKGRpdik7Cn0K",
      "text/plain": [
       "<__main__.ES6Module object>"
      ]
     },
     "execution_count": 14,
     "metadata": {},
     "output_type": "execute_result"
    }
   ],
   "source": [
    "def target_func(comm, msg):\n",
    "    # Only send the response if it's the data we are expecting.\n",
    "    if msg['content']['data'] == 'the data':\n",
    "        comm.send({'response': 'got comm open!'});\n",
    "        \n",
    "    def respond(msg):\n",
    "        comm.send({'response': 'another message'});\n",
    "\n",
    "    comm.on_msg(respond)\n",
    "        \n",
    "get_ipython().kernel.comm_manager.register_target('comm_target', target_func)\n",
    "\n",
    "ES6Module(module='''\n",
    "export async function render(output, element, context) {\n",
    "    const comm = await context.comms.open('comm_target', 'the data');\n",
    "    let messagesReceived = 0;\n",
    "    const onMessageDispose = comm.onMessage((message) => {\n",
    "        messagesReceived += 1;\n",
    "    })\n",
    "    \n",
    "    onMessageDispose()\n",
    "    \n",
    "    // Wait for a second to get all messages\n",
    "    await new Promise(resolve => setTimeout(resolve, 500))\n",
    "    \n",
    "    comm.send('should get a response but not see it')\n",
    "\n",
    "    const div = document.createElement('div');\n",
    "    if (messagesReceived <= 1) {\n",
    "        div.style.background = 'lime';\n",
    "        div.textContent = 'passed';\n",
    "    } else {\n",
    "        div.style.background = 'red';\n",
    "        div.textContent = 'failed';\n",
    "    }\n",
    "    element.appendChild(div);\n",
    "}\n",
    "''')"
   ]
  },
  {
   "cell_type": "markdown",
   "id": "81661f48-5272-4bf9-a3bd-36b0c57519bc",
   "metadata": {},
   "source": [
    "## Messages are buffered if on onMessage is registered"
   ]
  },
  {
   "cell_type": "code",
   "execution_count": 12,
   "id": "190ba001-89e6-4fca-bc1b-3d82a3207a91",
   "metadata": {
    "tags": []
   },
   "outputs": [
    {
     "data": {
      "application/vnd.jupyter.es6-rich-output": "data:text/javascript;base64,CmV4cG9ydCBhc3luYyBmdW5jdGlvbiByZW5kZXIob3V0cHV0LCBlbGVtZW50LCBjb250ZXh0KSB7CiAgICBjb25zdCBjb21tID0gYXdhaXQgY29udGV4dC5jb21tcy5vcGVuKCdjb21tX3RhcmdldCcsICd0aGUgZGF0YScpOwogICAgYXdhaXQgbmV3IFByb21pc2UocmVzb2x2ZSA9PiBzZXRUaW1lb3V0KHJlc29sdmUsIDUwMCkpCiAgICAKICAgIGxldCBzdWNjZXNzID0gZmFsc2U7CiAgICBjb21tLm9uTWVzc2FnZSgobXNnKSA9PiB7CiAgICAgICAgc3VjY2VzcyA9IHRydWUKICAgIH0pCiAgICAKICAgIGNvbnN0IGRpdiA9IGRvY3VtZW50LmNyZWF0ZUVsZW1lbnQoJ2RpdicpOwogICAgaWYgKHN1Y2Nlc3MpIHsKICAgICAgICBkaXYuc3R5bGUuYmFja2dyb3VuZCA9ICdsaW1lJzsKICAgICAgICBkaXYudGV4dENvbnRlbnQgPSAncGFzc2VkJzsKICAgIH0gZWxzZSB7CiAgICAgICAgZGl2LnN0eWxlLmJhY2tncm91bmQgPSAncmVkJzsKICAgICAgICBkaXYudGV4dENvbnRlbnQgPSAnZmFpbGVkJzsKICAgIH0KICAgIGVsZW1lbnQuYXBwZW5kQ2hpbGQoZGl2KTsKfQo=",
      "text/plain": [
       "<__main__.ES6Module object>"
      ]
     },
     "execution_count": 12,
     "metadata": {},
     "output_type": "execute_result"
    }
   ],
   "source": [
    "def target_func(comm, msg):\n",
    "    # Only send the response if it's the data we are expecting.\n",
    "    if msg['content']['data'] == 'the data':\n",
    "        comm.send({'response': 'got comm open!'});\n",
    "        \n",
    "get_ipython().kernel.comm_manager.register_target('comm_target', target_func)\n",
    "\n",
    "ES6Module(module='''\n",
    "export async function render(output, element, context) {\n",
    "    const comm = await context.comms.open('comm_target', 'the data');\n",
    "    await new Promise(resolve => setTimeout(resolve, 500))\n",
    "    \n",
    "    let success = false;\n",
    "    comm.onMessage((msg) => {\n",
    "        success = true\n",
    "    })\n",
    "    \n",
    "    const div = document.createElement('div');\n",
    "    if (success) {\n",
    "        div.style.background = 'lime';\n",
    "        div.textContent = 'passed';\n",
    "    } else {\n",
    "        div.style.background = 'red';\n",
    "        div.textContent = 'failed';\n",
    "    }\n",
    "    element.appendChild(div);\n",
    "}\n",
    "''')"
   ]
  },
  {
   "cell_type": "markdown",
   "id": "e9ed4478-4b71-4968-8705-4df805f8ddf4",
   "metadata": {},
   "source": [
    "## Register comm in JS, and then open in Python"
   ]
  },
  {
   "cell_type": "code",
   "execution_count": 14,
   "id": "eb23158d-2b55-4c4e-b514-988bbd51bb12",
   "metadata": {
    "tags": []
   },
   "outputs": [
    {
     "data": {
      "application/vnd.jupyter.es6-rich-output": "data:text/javascript;base64,CmV4cG9ydCBhc3luYyBmdW5jdGlvbiByZW5kZXIob3V0cHV0LCBlbGVtZW50LCBjb250ZXh0KSB7CiAgICBjb250ZXh0LmNvbW1zLnJlZ2lzdGVyVGFyZ2V0KCdjb21tc190ZXN0aW5nJywgKGNvbW0sIGRhdGEsIGJ1ZmZlcnMpID0+IHsKICAgICAgICBjb21tLnNlbmQoJ3RoaXMgaXMgdGhlIHJlc3BvbnNlJywge2J1ZmZlcnM6IGJ1ZmZlcnN9KTsKICAgIAogICAgICAgIGNvbnN0IGRpdiA9IGRvY3VtZW50LmNyZWF0ZUVsZW1lbnQoJ2RpdicpOwogICAgICAgIGRpdi5zdHlsZS5iYWNrZ3JvdW5kID0gJ2xpbWUnOwogICAgICAgIGRpdi50ZXh0Q29udGVudCA9ICdwYXNzZWQnOwogICAgICAgIGVsZW1lbnQuYXBwZW5kQ2hpbGQoZGl2KTsKICAgIH0pOwp9Cg==",
      "text/plain": [
       "<__main__.ES6Module object>"
      ]
     },
     "metadata": {},
     "output_type": "display_data"
    },
    {
     "name": "stderr",
     "output_type": "stream",
     "text": [
      "/var/folders/r3/l0bk84p12mq25vwbvcgprxv80000gn/T/ipykernel_42464/304886570.py:18: DeprecationWarning: The `ipykernel.comm.Comm` class has been deprecated. Please use the `comm` module instead.For creating comms, use the function `from comm import create_comm`.\n",
      "  comm = Comm(target_name='comms_testing', data={'foo': 1}, buffers=[buffer])\n"
     ]
    }
   ],
   "source": [
    "from ipykernel.comm import Comm\n",
    "\n",
    "display(ES6Module(module='''\n",
    "export async function render(output, element, context) {\n",
    "    context.comms.registerTarget('comms_testing', (comm, data, buffers) => {\n",
    "        comm.send('this is the response', {buffers: buffers});\n",
    "    \n",
    "        const div = document.createElement('div');\n",
    "        div.style.background = 'lime';\n",
    "        div.textContent = 'passed';\n",
    "        element.appendChild(div);\n",
    "    });\n",
    "}\n",
    "'''))\n",
    "\n",
    "\n",
    "buffer = b'hello world'\n",
    "comm = Comm(target_name='comms_testing', data={'foo': 1}, buffers=[buffer])\n",
    "\n",
    "message = None\n",
    "def handle_message(msg):\n",
    "    global message\n",
    "    message = msg\n",
    "\n",
    "comm.on_msg(handle_message)"
   ]
  },
  {
   "cell_type": "code",
   "execution_count": 15,
   "id": "3580380a-6636-40da-8df1-6e1c26cf752a",
   "metadata": {
    "tags": []
   },
   "outputs": [],
   "source": [
    "assert message['content']['data'] == 'this is the response'\n",
    "assert str(message['buffers'][0].tobytes()) == str(buffer)"
   ]
  },
  {
   "cell_type": "markdown",
   "id": "480328b7-08bc-4cce-85f8-e47d3887941f",
   "metadata": {},
   "source": [
    "## single onClose handler called in correct condiditions"
   ]
  },
  {
   "cell_type": "code",
   "execution_count": 3,
   "id": "68a91261-4bb7-4541-b31d-af14aaafe1df",
   "metadata": {
    "tags": []
   },
   "outputs": [
    {
     "data": {
      "application/vnd.jupyter.es6-rich-output": "data:text/javascript;base64,CmV4cG9ydCBhc3luYyBmdW5jdGlvbiByZW5kZXIob3V0cHV0LCBlbGVtZW50LCBjb250ZXh0KSB7CiAgICBjb25zdCBjb21tID0gYXdhaXQgY29udGV4dC5jb21tcy5vcGVuKCdjb21tX3RhcmdldF9uZXcnLCAndGhlIGRhdGEnKTsKICAgIGxldCBjbG9zZWQgPSBmYWxzZTsKICAgIGNvbW0ub25DbG9zZSgoKSA9PiB7CiAgICAgICAgY2xvc2VkID0gdHJ1ZTsKICAgIH0pCiAgICAKICAgIGNvbW0uc2VuZCgndGhlIGRhdGEnKQogICAgYXdhaXQgbmV3IFByb21pc2UocmVzb2x2ZSA9PiBzZXRUaW1lb3V0KHJlc29sdmUsIDUwMCkpCiAgICAKICAgIGlmIChjbG9zZWQpIHsKICAgICAgICBjb25zdCBkaXYgPSBkb2N1bWVudC5jcmVhdGVFbGVtZW50KCdkaXYnKTsKICAgICAgICBkaXYuc3R5bGUuYmFja2dyb3VuZCA9ICdyZWQnOwogICAgICAgIGRpdi50ZXh0Q29udGVudCA9ICdDbG9zZWQgY29tbSB0b28gZWFybHknOwogICAgICAgIGVsZW1lbnQuYXBwZW5kQ2hpbGQoZGl2KTsKICAgICAgICByZXR1cm47CiAgICB9CiAgICAKICAgIGNvbW0uc2VuZCgnY2xvc2UgaXQgbm93JykKICAgIGF3YWl0IG5ldyBQcm9taXNlKHJlc29sdmUgPT4gc2V0VGltZW91dChyZXNvbHZlLCA1MDApKQoKICAgIC8vIFdhaXQgZm9yIGEgc2Vjb25kIHRvIGdldCB0aGUgbWVzc2FnZQogICAgYXdhaXQgbmV3IFByb21pc2UocmVzb2x2ZSA9PiBzZXRUaW1lb3V0KHJlc29sdmUsIDUwMCkpCgogICAgY29uc3QgZGl2ID0gZG9jdW1lbnQuY3JlYXRlRWxlbWVudCgnZGl2Jyk7CiAgICBpZiAoY2xvc2VkKSB7CiAgICAgICAgZGl2LnN0eWxlLmJhY2tncm91bmQgPSAnbGltZSc7CiAgICAgICAgZGl2LnRleHRDb250ZW50ID0gJ3Bhc3NlZCc7CiAgICB9IGVsc2UgewogICAgICAgIGRpdi5zdHlsZS5iYWNrZ3JvdW5kID0gJ3JlZCc7CiAgICAgICAgZGl2LnRleHRDb250ZW50ID0gJ2ZhaWxlZCB0byBjYWxsIG9uQ2xvc2UnOwogICAgfQogICAgZWxlbWVudC5hcHBlbmRDaGlsZChkaXYpOwp9Cg==",
      "text/plain": [
       "<__main__.ES6Module object>"
      ]
     },
     "execution_count": 3,
     "metadata": {},
     "output_type": "execute_result"
    }
   ],
   "source": [
    "def target_func(comm, msg):\n",
    "    # Only send the response if it's the data we are expecting.\n",
    "    if msg['content']['data'] == 'the data':\n",
    "        comm.send({'response': 'got comm open!'});\n",
    "        \n",
    "    def wait_for_close(msg):\n",
    "        if msg['content']['data'] == 'close it now':\n",
    "            comm.close()\n",
    "    comm.on_msg(wait_for_close)\n",
    "        \n",
    "get_ipython().kernel.comm_manager.register_target('comm_target_new', target_func)\n",
    "\n",
    "ES6Module(module='''\n",
    "export async function render(output, element, context) {\n",
    "    const comm = await context.comms.open('comm_target_new', 'the data');\n",
    "    let closed = false;\n",
    "    comm.onClose(() => {\n",
    "        closed = true;\n",
    "    })\n",
    "    \n",
    "    comm.send('the data')\n",
    "    await new Promise(resolve => setTimeout(resolve, 500))\n",
    "    \n",
    "    if (closed) {\n",
    "        const div = document.createElement('div');\n",
    "        div.style.background = 'red';\n",
    "        div.textContent = 'Closed comm too early';\n",
    "        element.appendChild(div);\n",
    "        return;\n",
    "    }\n",
    "    \n",
    "    comm.send('close it now')\n",
    "    await new Promise(resolve => setTimeout(resolve, 500))\n",
    "\n",
    "    const div = document.createElement('div');\n",
    "    if (closed) {\n",
    "        div.style.background = 'lime';\n",
    "        div.textContent = 'passed';\n",
    "    } else {\n",
    "        div.style.background = 'red';\n",
    "        div.textContent = 'failed to call onClose';\n",
    "    }\n",
    "    element.appendChild(div);\n",
    "}\n",
    "''')"
   ]
  },
  {
   "cell_type": "markdown",
   "id": "12190a0b-1103-44a5-a335-82ee29a04f7f",
   "metadata": {},
   "source": [
    "## Dispose for onClose handler works"
   ]
  },
  {
   "cell_type": "code",
   "execution_count": 6,
   "id": "d0272772-8589-4366-a41a-37da4e18c714",
   "metadata": {
    "tags": []
   },
   "outputs": [
    {
     "data": {
      "application/vnd.jupyter.es6-rich-output": "data:text/javascript;base64,CmV4cG9ydCBhc3luYyBmdW5jdGlvbiByZW5kZXIob3V0cHV0LCBlbGVtZW50LCBjb250ZXh0KSB7CiAgICBjb25zdCBjb21tID0gYXdhaXQgY29udGV4dC5jb21tcy5vcGVuKCdjb21tX3RhcmdldF9uZXdfMScsICd0aGUgZGF0YScpOwogICAgbGV0IGNsb3NlZCA9IGZhbHNlOwogICAgY29uc3QgY2xvc2VEaXNwb3NlID0gY29tbS5vbkNsb3NlKCgpID0+IHsKICAgICAgICBjbG9zZWQgPSB0cnVlOwogICAgfSkKICAgIAogICAgCiAgICBjb21tLnNlbmQoJ3RoZSBkYXRhJykKICAgIGF3YWl0IG5ldyBQcm9taXNlKHJlc29sdmUgPT4gc2V0VGltZW91dChyZXNvbHZlLCA1MDApKQogICAgCiAgICBjbG9zZURpc3Bvc2UoKQogICAgCiAgICBjb21tLnNlbmQoJ2Nsb3NlIGl0IG5vdycpCiAgICBhd2FpdCBuZXcgUHJvbWlzZShyZXNvbHZlID0+IHNldFRpbWVvdXQocmVzb2x2ZSwgNTAwKSkKCiAgICBjb25zdCBkaXYgPSBkb2N1bWVudC5jcmVhdGVFbGVtZW50KCdkaXYnKTsKICAgIGlmICghY2xvc2VkKSB7CiAgICAgICAgZGl2LnN0eWxlLmJhY2tncm91bmQgPSAnbGltZSc7CiAgICAgICAgZGl2LnRleHRDb250ZW50ID0gJ3Bhc3NlZCc7CiAgICB9IGVsc2UgewogICAgICAgIGRpdi5zdHlsZS5iYWNrZ3JvdW5kID0gJ3JlZCc7CiAgICAgICAgZGl2LnRleHRDb250ZW50ID0gJ29uQ2xvc2Ugc2hvdWxkIG5vdCBoYXZlIGJlZW4gY2FsbGVkLCBhcyBpdCB3YXMgZGlzcG9zZWQnOwogICAgfQogICAgZWxlbWVudC5hcHBlbmRDaGlsZChkaXYpOwp9Cg==",
      "text/plain": [
       "<__main__.ES6Module object>"
      ]
     },
     "execution_count": 6,
     "metadata": {},
     "output_type": "execute_result"
    }
   ],
   "source": [
    "def target_func(comm, msg):\n",
    "    # Only send the response if it's the data we are expecting.\n",
    "    if msg['content']['data'] == 'the data':\n",
    "        comm.send({'response': 'got comm open!'});\n",
    "        \n",
    "    def wait_for_close(msg):\n",
    "        if msg['content']['data'] == 'close it now':\n",
    "            comm.close()\n",
    "            \n",
    "    comm.on_msg(wait_for_close)\n",
    "        \n",
    "get_ipython().kernel.comm_manager.register_target('comm_target_new_1', target_func)\n",
    "\n",
    "ES6Module(module='''\n",
    "export async function render(output, element, context) {\n",
    "    const comm = await context.comms.open('comm_target_new_1', 'the data');\n",
    "    let closed = false;\n",
    "    const closeDispose = comm.onClose(() => {\n",
    "        closed = true;\n",
    "    })\n",
    "    \n",
    "    \n",
    "    comm.send('the data')\n",
    "    await new Promise(resolve => setTimeout(resolve, 500))\n",
    "    \n",
    "    closeDispose()\n",
    "    \n",
    "    comm.send('close it now')\n",
    "    await new Promise(resolve => setTimeout(resolve, 500))\n",
    "\n",
    "    const div = document.createElement('div');\n",
    "    if (!closed) {\n",
    "        div.style.background = 'lime';\n",
    "        div.textContent = 'passed';\n",
    "    } else {\n",
    "        div.style.background = 'red';\n",
    "        div.textContent = 'onClose should not have been called, as it was disposed';\n",
    "    }\n",
    "    element.appendChild(div);\n",
    "}\n",
    "''')"
   ]
  },
  {
   "cell_type": "code",
   "execution_count": null,
   "id": "fe02be4d-82d6-4105-ac01-de0b6e39608a",
   "metadata": {},
   "outputs": [],
   "source": []
  }
 ],
 "metadata": {
  "kernelspec": {
   "display_name": "Python 3 (ipykernel)",
   "language": "python",
   "name": "python3"
  },
  "language_info": {
   "codemirror_mode": {
    "name": "ipython",
    "version": 3
   },
   "file_extension": ".py",
   "mimetype": "text/x-python",
   "name": "python",
   "nbconvert_exporter": "python",
   "pygments_lexer": "ipython3",
   "version": "3.9.9"
  }
 },
 "nbformat": 4,
 "nbformat_minor": 5
}
