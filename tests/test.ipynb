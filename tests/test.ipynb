{
 "cells": [
  {
   "cell_type": "code",
   "execution_count": null,
   "id": "eed83c2b-ce91-4456-907c-7248d5fd0f7b",
   "metadata": {
    "tags": []
   },
   "outputs": [],
   "source": [
    "from IPython.display import DisplayObject\n",
    "import base64\n",
    "\n",
    "class ES6Module(DisplayObject):\n",
    "    _MIME_TYPE = 'application/vnd.jupyter.es6-rich-output'\n",
    "    \n",
    "    def __init__(self, module=None, url=None):\n",
    "        if module and url:\n",
    "            raise ValueError('Cannot specify both module and url')\n",
    "        if not module and not url:\n",
    "            raise ValueError('Must specify either module or url')\n",
    "        if module:\n",
    "            url = 'data:text/javascript;base64,' + base64.b64encode(module.encode('utf-8')).decode('utf-8') \n",
    "        self._url = url\n",
    "        self.data = {}\n",
    "    \n",
    "    def _repr_mimebundle_(self, include=None, exclude=None):\n",
    "        mime_bundle = {} \n",
    "        mime_bundle[ES6Module._MIME_TYPE] = self._url\n",
    "        for key in self.data.keys():\n",
    "            mime_bundle[key] = self.data[key]\n",
    "        return mime_bundle"
   ]
  },
  {
   "cell_type": "markdown",
   "id": "43b25734-919b-4304-84d0-8dd06d08a809",
   "metadata": {
    "tags": []
   },
   "source": [
    "## `render` function can write to element"
   ]
  },
  {
   "cell_type": "code",
   "execution_count": null,
   "id": "4880822a-ea47-4114-a6b1-12176e469bde",
   "metadata": {
    "tags": []
   },
   "outputs": [],
   "source": [
    "ES6Module(module='''\n",
    "export function render(output, element) {\n",
    "    const div = document.createElement('div');\n",
    "    div.style.background = 'lime';\n",
    "    div.textContent = 'passed';\n",
    "    element.appendChild(div);\n",
    "}\n",
    "''')"
   ]
  },
  {
   "cell_type": "markdown",
   "id": "dac82a55-eeb3-4efb-84b8-57bba9eddfa4",
   "metadata": {
    "tags": []
   },
   "source": [
    "## Render function finishes before rendering next output (failing)"
   ]
  },
  {
   "cell_type": "code",
   "execution_count": null,
   "id": "bec419a9-0186-4e31-817a-04853636f747",
   "metadata": {
    "tags": []
   },
   "outputs": [],
   "source": [
    "from IPython.display import Javascript\n",
    "display(Javascript('window.nextOutputRendered = false; console.log(\"Set rendered output false\")'))\n",
    "display(ES6Module(module='''\n",
    "export async function render(output, element) {\n",
    "    const promise = new Promise((resolve) => setTimeout(resolve, 1000));\n",
    "    await promise;\n",
    "    console.log(\"HERE123\")\n",
    "    if (window.nextOutputRendered) {\n",
    "        const div = document.createElement('div');\n",
    "        div.style.background = 'red';\n",
    "        div.textContent = 'failed: expected subsequent outputs to wait for this.';\n",
    "        element.appendChild(div);\n",
    "    } else {\n",
    "        const div = document.createElement('div');\n",
    "        div.style.background = 'lime';\n",
    "        div.textContent = 'passed';\n",
    "        element.appendChild(div);\n",
    "    }\n",
    "}\n",
    "'''))\n",
    "display(Javascript('window.nextOutputRendered = true; console.log(\"Set rendered output true\")'))"
   ]
  },
  {
   "cell_type": "markdown",
   "id": "c09274f4-9691-45d0-b17b-490dc6d51b14",
   "metadata": {
    "tags": []
   },
   "source": [
    "## Render function has access to all output data"
   ]
  },
  {
   "cell_type": "code",
   "execution_count": null,
   "id": "a7484f99-6f69-4371-9855-e2b0f156ae62",
   "metadata": {
    "tags": []
   },
   "outputs": [],
   "source": [
    "data = ES6Module(module='''\n",
    "export function render(output, element) {\n",
    "    const plainText = output.data['text/plain'];\n",
    "    if (plainText != 'the text value') {\n",
    "        const div = document.createElement('div');\n",
    "        div.style.background = 'red';\n",
    "        div.textContent = `Expected the text to be \"the text value\" but was ${plainText}`;\n",
    "        element.appendChild(div);\n",
    "    } else {\n",
    "        const div = document.createElement('div');\n",
    "        div.style.background = 'lime';\n",
    "        div.textContent = 'passed';\n",
    "        element.appendChild(div);\n",
    "    }\n",
    "}\n",
    "''')\n",
    "data.data['text/plain'] = 'the text value'\n",
    "data"
   ]
  },
  {
   "cell_type": "markdown",
   "id": "d1bb1740-b9d5-470a-8e12-2e8109799a99",
   "metadata": {},
   "source": [
    "# Validate that the members of the context do not include anything extra"
   ]
  },
  {
   "cell_type": "code",
   "execution_count": null,
   "id": "2961dadf-aad7-4c45-bbc4-65fce5ff4318",
   "metadata": {
    "tags": []
   },
   "outputs": [],
   "source": [
    "ES6Module(module='''\n",
    "const expected = {\n",
    "    comms: {\n",
    "        open: () => {},\n",
    "        registerTarget: () => {},\n",
    "    },\n",
    "};\n",
    "\n",
    "export function render(output, element, context) {\n",
    "    \n",
    "    let errorsReported = false;\n",
    "    validate(context, expected, 'context.', (error) => {\n",
    "        errorsReported = true;\n",
    "        const div = document.createElement('div');\n",
    "        div.style.background = 'red';\n",
    "        div.textContent = error;\n",
    "        element.appendChild(div);\n",
    "    });\n",
    "    if (!errorsReported) {\n",
    "        const div = document.createElement('div');\n",
    "        div.style.background = 'lime';\n",
    "        div.textContent = 'passed';\n",
    "        element.appendChild(div);\n",
    "    }\n",
    "}\n",
    "\n",
    "function getMembers(object) {\n",
    "    const members = new Set([...Object.getOwnPropertyNames(object)]);\n",
    "    const prototype = Object.getPrototypeOf(object);\n",
    "    if (prototype && prototype != Object.getPrototypeOf({})) {\n",
    "        return new Set([...members, ...getMembers(prototype)]);\n",
    "    }\n",
    "    return members;\n",
    "}\n",
    "\n",
    "function validate(actual, expected, prefix, recordError) {\n",
    "    const expectedKeys = new Set(Object.getOwnPropertyNames(expected));\n",
    "    const actualKeys = getMembers(actual);\n",
    "    \n",
    "    for (const key of actualKeys) {\n",
    "        console.log(\"CHECKING HERE1\")\n",
    "        if (!expectedKeys.has(key)) {\n",
    "            recordError(`Unexpected key: ${prefix}${key}`);\n",
    "            continue;\n",
    "        }\n",
    "        const actualValue = actual[key];\n",
    "        const expectedValue = expected[key];\n",
    "        if (typeof actualValue === 'function' && typeof expectedValue === 'function') {\n",
    "            continue;\n",
    "        }\n",
    "        validate(actualValue, expectedValue, `${prefix}${key}.`, recordError);\n",
    "    }\n",
    "    \n",
    "    for (const key of expectedKeys) {\n",
    "        if (!actualKeys.has(key)) {\n",
    "            recordError(`Missing key: ${prefix}${key}`);\n",
    "            continue;\n",
    "        }\n",
    "    }\n",
    "}\n",
    "''')"
   ]
  },
  {
   "cell_type": "markdown",
   "id": "f17acaef-c58f-4142-a073-a89d48d5a563",
   "metadata": {},
   "source": [
    "# Comms"
   ]
  },
  {
   "cell_type": "markdown",
   "id": "a6c9113a-2e8f-45a3-9861-fdd7570f094b",
   "metadata": {},
   "source": [
    "## Register comm in Python, and then open in JS"
   ]
  },
  {
   "cell_type": "code",
   "execution_count": null,
   "id": "9fec0b40-e933-4b90-b9ff-647abaac8c6a",
   "metadata": {
    "tags": []
   },
   "outputs": [],
   "source": [
    "def target_func(comm, msg):\n",
    "    # Only send the response if it's the data we are expecting.\n",
    "    if msg['content']['data'] == 'the data':\n",
    "        comm.send({'response': 'got comm open!',}, None, msg['buffers']);\n",
    "get_ipython().kernel.comm_manager.register_target('comm_target', target_func)\n",
    "\n",
    "ES6Module(module='''\n",
    "export async function render(output, element, context) {\n",
    "    const buffer = new Uint8Array(10);\n",
    "    for (let i = 0; i < buffer.byteLength; ++i) {\n",
    "        buffer[i] = i\n",
    "    }\n",
    "    const channel = await context.comms.open('comm_target', 'the data', [buffer.buffer]);\n",
    "    let success = false;\n",
    "    for await (const message of channel.messages) {\n",
    "        if (message.data.response == 'got comm open!') {\n",
    "            if (!(message.buffers[0] instanceof ArrayBuffer)) {\n",
    "                throw new Error('Buffer is not an ArrayBuffer');    \n",
    "            }\n",
    "            const responseBuffer = new Uint8Array(message.buffers[0]);\n",
    "            for (let i = 0; i < buffer.length; ++i) {\n",
    "               if (responseBuffer[i] != buffer[i]) {\n",
    "                   throw new Error('comm buffer different at ' + i);\n",
    "                   return;\n",
    "               }\n",
    "            }\n",
    "            // Close the channel once the expected message is received. This should\n",
    "            // cause the messages iterator to complete and for the for-await loop to\n",
    "            // end.\n",
    "            channel.close();\n",
    "        }\n",
    "    }\n",
    "    const div = document.createElement('div');\n",
    "    div.style.background = 'lime';\n",
    "    div.textContent = 'passed';\n",
    "    element.appendChild(div);\n",
    "}\n",
    "''')"
   ]
  },
  {
   "cell_type": "markdown",
   "id": "e9ed4478-4b71-4968-8705-4df805f8ddf4",
   "metadata": {},
   "source": [
    "## Register comm in JS, and then open in Python"
   ]
  },
  {
   "cell_type": "code",
   "execution_count": null,
   "id": "eb23158d-2b55-4c4e-b514-988bbd51bb12",
   "metadata": {
    "tags": []
   },
   "outputs": [],
   "source": [
    "from ipykernel.comm import Comm\n",
    "\n",
    "display(ES6Module(module='''\n",
    "export async function render(output, element, context) {\n",
    "    context.comms.registerTarget('comms_testing', (comm, data, buffers) => {\n",
    "        comm.send('this is the response', {buffers: buffers});\n",
    "    \n",
    "        const div = document.createElement('div');\n",
    "        div.style.background = 'lime';\n",
    "        div.textContent = 'passed';\n",
    "        element.appendChild(div);\n",
    "    });\n",
    "}\n",
    "'''))\n",
    "\n",
    "\n",
    "buffer = b'hello world'\n",
    "comm = Comm(target_name='comms_testing', data={'foo': 1}, buffers=[buffer])\n",
    "\n",
    "message = None\n",
    "def handle_message(msg):\n",
    "    global message\n",
    "    message = msg\n",
    "\n",
    "comm.on_msg(handle_message)"
   ]
  },
  {
   "cell_type": "code",
   "execution_count": null,
   "id": "3580380a-6636-40da-8df1-6e1c26cf752a",
   "metadata": {
    "tags": []
   },
   "outputs": [],
   "source": [
    "assert message['content']['data'] == 'this is the response'\n",
    "assert str(message['buffers'][0].tobytes()) == str(buffer)"
   ]
  }
 ],
 "metadata": {
  "kernelspec": {
   "display_name": "Python 3 (ipykernel)",
   "language": "python",
   "name": "python3"
  },
  "language_info": {
   "codemirror_mode": {
    "name": "ipython",
    "version": 3
   },
   "file_extension": ".py",
   "mimetype": "text/x-python",
   "name": "python",
   "nbconvert_exporter": "python",
   "pygments_lexer": "ipython3",
   "version": "3.9.9"
  }
 },
 "nbformat": 4,
 "nbformat_minor": 5
}
