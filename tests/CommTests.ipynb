{
 "cells": [
  {
   "cell_type": "code",
   "execution_count": null,
   "id": "bebdc6b9-0d2c-4f73-825d-60f5e39bada0",
   "metadata": {
    "tags": []
   },
   "outputs": [],
   "source": [
    "import base64\n",
    "\n",
    "def encode(s):\n",
    "    return ('data:text/javascript;base64,'\n",
    "            + base64.standard_b64encode(s.encode('utf-8')).decode('utf-8'))"
   ]
  },
  {
   "cell_type": "markdown",
   "id": "87fb3119-bf9b-4ac4-85a6-e2c369e2c442",
   "metadata": {},
   "source": [
    "## Opening a Comm from `context.comms` returns a non-null object"
   ]
  },
  {
   "cell_type": "code",
   "execution_count": null,
   "id": "0dcdcc98-720d-42eb-9fee-f00f0a7305be",
   "metadata": {
    "tags": []
   },
   "outputs": [],
   "source": [
    "display({\n",
    "    'application/vnd.jupyter.es6-rich-output': encode('''\n",
    "    export function render(output, element, context) {\n",
    "        (async () => {\n",
    "            var comm = await context.comms.open('test-id', {});\n",
    "            var resultElement = document.createElement(\"p\")\n",
    "            if (comm) {\n",
    "                resultElement.textContent = \"Successfully opened comm\"\n",
    "                resultElement.style.color = 'green'\n",
    "            } else {\n",
    "                resultElement.textContent = \"Failed to open comm\"\n",
    "                resultElement.style.color = 'red'\n",
    "            }   \n",
    "            element.appendChild(resultElement)\n",
    "        })()\n",
    "        \n",
    "    }\n",
    "    '''),\n",
    "    'application/mytable+json': [[1,2,3],[4,5,6]]\n",
    "}, raw=True)\n"
   ]
  },
  {
   "cell_type": "markdown",
   "id": "549b24bf-3bd9-4754-95ae-95fe1e57f78f",
   "metadata": {},
   "source": [
    "## Registering Comm in Python, open in rich output"
   ]
  },
  {
   "cell_type": "code",
   "execution_count": null,
   "id": "844b583a-8738-42bf-9006-9910b34b840e",
   "metadata": {
    "tags": []
   },
   "outputs": [],
   "source": [
    "import IPython\n",
    "\n",
    "ipython = IPython.get_ipython()\n",
    "messages = []\n",
    "\n",
    "def on_comm_creation(comm, open_msg):\n",
    "    @comm.on_msg\n",
    "    def _recv(msg):\n",
    "        messages.append(msg)\n",
    "        \n",
    "    comm.send({'echo': open_msg['content']['data']})\n",
    "\n",
    "# Register the comm target - so the callback gets called\n",
    "ipython.kernel.comm_manager.register_target('comm-test-target-id', on_comm_creation)"
   ]
  },
  {
   "cell_type": "code",
   "execution_count": null,
   "id": "e7ffd1a2-52a3-4079-9159-911cbd78df00",
   "metadata": {
    "tags": []
   },
   "outputs": [],
   "source": [
    "display({\n",
    "    'application/vnd.jupyter.es6-rich-output': encode('''\n",
    "    export function render(output, element, context) {\n",
    "        (async () => {\n",
    "            var comm = await context.comms.open('comm-test-target-id', {});\n",
    "            await comm.send(\"Test Message 1\")\n",
    "            await comm.send(\"Test Message 2\")\n",
    "            await comm.send(\"Test Message 3\")\n",
    "            \n",
    "            var resultElement = document.createElement(\"p\")\n",
    "            resultElement.textContent = \"Sent Comm Message\"\n",
    "            resultElement.style.color = 'green'\n",
    "            element.appendChild(resultElement);\n",
    "            \n",
    "            \n",
    "            \n",
    "            \n",
    "            console.log(comm.messages)\n",
    "        })()\n",
    "    \n",
    "    }\n",
    "    '''),\n",
    "}, raw=True)\n"
   ]
  },
  {
   "cell_type": "code",
   "execution_count": null,
   "id": "99449043-58fe-494d-b507-5e268432bba1",
   "metadata": {
    "tags": []
   },
   "outputs": [],
   "source": [
    "assert len(messages) == 3 # run from start of section to reset messages if this fails"
   ]
  }
 ],
 "metadata": {
  "kernelspec": {
   "display_name": "Python 3 (ipykernel)",
   "language": "python",
   "name": "python3"
  },
  "language_info": {
   "codemirror_mode": {
    "name": "ipython",
    "version": 3
   },
   "file_extension": ".py",
   "mimetype": "text/x-python",
   "name": "python",
   "nbconvert_exporter": "python",
   "pygments_lexer": "ipython3",
   "version": "3.9.9"
  }
 },
 "nbformat": 4,
 "nbformat_minor": 5
}
