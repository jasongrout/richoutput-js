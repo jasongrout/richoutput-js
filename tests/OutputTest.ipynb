{
 "cells": [
  {
   "cell_type": "markdown",
   "id": "70b3417e-b7ec-4657-bebc-d3a7c48287ba",
   "metadata": {
    "tags": []
   },
   "source": [
    "## Rich output can write to element div"
   ]
  },
  {
   "cell_type": "code",
   "execution_count": null,
   "id": "bebdc6b9-0d2c-4f73-825d-60f5e39bada0",
   "metadata": {
    "tags": []
   },
   "outputs": [],
   "source": [
    "import base64\n",
    "\n",
    "def encode(s):\n",
    "    return ('data:text/javascript;base64,'\n",
    "            + base64.standard_b64encode(s.encode('utf-8')).decode('utf-8'))"
   ]
  },
  {
   "cell_type": "code",
   "execution_count": null,
   "id": "0dcdcc98-720d-42eb-9fee-f00f0a7305be",
   "metadata": {
    "tags": []
   },
   "outputs": [],
   "source": [
    "display({\n",
    "    'application/vnd.jupyter.es6-rich-output': encode('''\n",
    "    export function render(output, element, context) {\n",
    "        let tabledata = output.data['application/mytable+json'];\n",
    "        const table = document.createElement('table');\n",
    "        table.rules=\"all\"\n",
    "        for(let i=0; i<tabledata.length;i++) {\n",
    "          let row = document.createElement('tr')\n",
    "          for(let j=0; j<tabledata[i].length; j++) {\n",
    "            let cell = document.createElement('td')\n",
    "            cell.textContent = tabledata[i][j]\n",
    "            row.appendChild(cell)\n",
    "          }\n",
    "          table.appendChild(row)\n",
    "        }\n",
    "        element.appendChild(table);\n",
    "        table.style.border = '1px solid black';\n",
    "        if (!output.data['text/html']) {\n",
    "            output.data['text/html'] = element.innerHTML\n",
    "        }\n",
    "    }\n",
    "    '''),\n",
    "    'application/mytable+json': [[1,2,3],[4,5,6]]\n",
    "}, raw=True)\n"
   ]
  },
  {
   "cell_type": "code",
   "execution_count": null,
   "id": "d0e2be21-8c10-4ef6-a439-eabfe0b64b72",
   "metadata": {},
   "outputs": [],
   "source": []
  }
 ],
 "metadata": {
  "kernelspec": {
   "display_name": "Python 3 (ipykernel)",
   "language": "python",
   "name": "python3"
  },
  "language_info": {
   "codemirror_mode": {
    "name": "ipython",
    "version": 3
   },
   "file_extension": ".py",
   "mimetype": "text/x-python",
   "name": "python",
   "nbconvert_exporter": "python",
   "pygments_lexer": "ipython3",
   "version": "3.9.9"
  }
 },
 "nbformat": 4,
 "nbformat_minor": 5
}
