{
 "cells": [
  {
   "cell_type": "code",
   "execution_count": 1,
   "id": "bebdc6b9-0d2c-4f73-825d-60f5e39bada0",
   "metadata": {},
   "outputs": [],
   "source": [
    "import base64\n",
    "\n",
    "def encode(s):\n",
    "    return ('data:text/javascript;base64,'\n",
    "            + base64.standard_b64encode(s.encode('utf-8')).decode('utf-8'))"
   ]
  },
  {
   "cell_type": "code",
   "execution_count": 6,
   "id": "0dcdcc98-720d-42eb-9fee-f00f0a7305be",
   "metadata": {},
   "outputs": [
    {
     "data": {
      "application/vnd.code.notebook.error": {
       "message": "o.endsWith is not a function",
       "name": "TypeError",
       "stack": "c@https://main.vscode-cdn.net/stable/6261075646f055b99068d3688932416f2346dd3b/extensions/ipynb/dist/browser/ipynbMain.js#vscode-extension:3:147302\ni@https://main.vscode-cdn.net/stable/6261075646f055b99068d3688932416f2346dd3b/extensions/ipynb/dist/browser/ipynbMain.js#vscode-extension:3:147952\nl@https://main.vscode-cdn.net/stable/6261075646f055b99068d3688932416f2346dd3b/extensions/ipynb/dist/browser/ipynbMain.js#vscode-extension:3:148760\nh@https://main.vscode-cdn.net/stable/6261075646f055b99068d3688932416f2346dd3b/extensions/ipynb/dist/browser/ipynbMain.js#vscode-extension:3:149510\n768/e.jupyterNotebookModelToNotebookData/r</</<@https://main.vscode-cdn.net/stable/6261075646f055b99068d3688932416f2346dd3b/extensions/ipynb/dist/browser/ipynbMain.js#vscode-extension:3:150678\n768/e.jupyterNotebookModelToNotebookData/r</<@https://main.vscode-cdn.net/stable/6261075646f055b99068d3688932416f2346dd3b/extensions/ipynb/dist/browser/ipynbMain.js#vscode-extension:3:150995\n768/e.jupyterNotebookModelToNotebookData/r<@https://main.vscode-cdn.net/stable/6261075646f055b99068d3688932416f2346dd3b/extensions/ipynb/dist/browser/ipynbMain.js#vscode-extension:3:151002\n768/e.jupyterNotebookModelToNotebookData@https://main.vscode-cdn.net/stable/6261075646f055b99068d3688932416f2346dd3b/extensions/ipynb/dist/browser/ipynbMain.js#vscode-extension:3:150254\ndeserializeNotebook@https://main.vscode-cdn.net/stable/6261075646f055b99068d3688932416f2346dd3b/extensions/ipynb/dist/browser/ipynbMain.js#vscode-extension:3:160877\n$dataToNotebook@../../../vs/workbench/api/worker/extensionHostWorker.js:78:98338\n_doInvokeHandler@../../../vs/workbench/api/worker/extensionHostWorker.js:78:216219\n_invokeHandler@../../../vs/workbench/api/worker/extensionHostWorker.js:78:215901\n_receiveRequest@../../../vs/workbench/api/worker/extensionHostWorker.js:78:214614\n_receiveOneMessage@../../../vs/workbench/api/worker/extensionHostWorker.js:78:213566\nd/<@../../../vs/workbench/api/worker/extensionHostWorker.js:78:211474\ninvoke@https://v--1nr5sa1vc0g20s00lpsohr21pc9rl8t59a85ujpvdinuu9joqav2.vscode-cdn.net/stable/6261075646f055b99068d3688932416f2346dd3b/out/vs/base/worker/workerMain.js:16:145\ndeliver@https://v--1nr5sa1vc0g20s00lpsohr21pc9rl8t59a85ujpvdinuu9joqav2.vscode-cdn.net/stable/6261075646f055b99068d3688932416f2346dd3b/out/vs/base/worker/workerMain.js:16:2266\nfire@https://v--1nr5sa1vc0g20s00lpsohr21pc9rl8t59a85ujpvdinuu9joqav2.vscode-cdn.net/stable/6261075646f055b99068d3688932416f2346dd3b/out/vs/base/worker/workerMain.js:16:1844\na/c.port1.onmessage@../../../vs/workbench/api/worker/extensionHostWorker.js:85:4033\n"
      },
      "application/vnd.jupyter.esm-rich-output": "data:text/javascript;base64,CiAgICBleHBvcnQgZnVuY3Rpb24gcmVuZGVyKG91dHB1dCwgZWxlbWVudCwgY29udGV4dCkgewogICAgbGV0IHRhYmxlZGF0YSA9IG91dHB1dC5kYXRhWydhcHBsaWNhdGlvbi9teXRhYmxlK2pzb24nXTsKICAgIGNvbnN0IHRhYmxlID0gZG9jdW1lbnQuY3JlYXRlRWxlbWVudCgndGFibGUnKTsKICAgIHRhYmxlLnJ1bGVzPSJhbGwiCiAgICBmb3IobGV0IGk9MDsgaTx0YWJsZWRhdGEubGVuZ3RoO2krKykgewogICAgICBsZXQgcm93ID0gZG9jdW1lbnQuY3JlYXRlRWxlbWVudCgndHInKQogICAgICBmb3IobGV0IGo9MDsgajx0YWJsZWRhdGFbaV0ubGVuZ3RoOyBqKyspIHsKICAgICAgICBsZXQgY2VsbCA9IGRvY3VtZW50LmNyZWF0ZUVsZW1lbnQoJ3RkJykKICAgICAgICBjZWxsLnRleHRDb250ZW50ID0gdGFibGVkYXRhW2ldW2pdCiAgICAgICAgcm93LmFwcGVuZENoaWxkKGNlbGwpCiAgICAgIH0KICAgICAgdGFibGUuYXBwZW5kQ2hpbGQocm93KQogICAgfQogICAgZWxlbWVudC5hcHBlbmRDaGlsZCh0YWJsZSk7CiAgICB0YWJsZS5zdHlsZS5ib3JkZXIgPSAnMXB4IHNvbGlkIGJsYWNrJzsKICAgIGlmICghb3V0cHV0LmRhdGFbJ3RleHQvaHRtbCddKSB7CiAgICAgICAgb3V0cHV0LmRhdGFbJ3RleHQvaHRtbCddID0gZWxlbWVudC5pbm5lckhUTUwKICAgIH0KICAgIH0KICAgIA==",
      "text/html": [
       "<table rules=\"all\" style=\"border: 1px solid black;\"><tr><td>1</td><td>2</td><td>3</td></tr><tr><td>4</td><td>5</td><td>6</td></tr></table>"
      ]
     },
     "metadata": {},
     "output_type": "display_data"
    }
   ],
   "source": [
    "display({\n",
    "    'application/vnd.jupyter.esm-rich-output': encode('''\n",
    "    export function render(output, element, context) {\n",
    "    let tabledata = output.data['application/mytable+json'];\n",
    "    const table = document.createElement('table');\n",
    "    table.rules=\"all\"\n",
    "    for(let i=0; i<tabledata.length;i++) {\n",
    "      let row = document.createElement('tr')\n",
    "      for(let j=0; j<tabledata[i].length; j++) {\n",
    "        let cell = document.createElement('td')\n",
    "        cell.textContent = tabledata[i][j]\n",
    "        row.appendChild(cell)\n",
    "      }\n",
    "      table.appendChild(row)\n",
    "    }\n",
    "    element.appendChild(table);\n",
    "    table.style.border = '1px solid black';\n",
    "    if (!output.data['text/html']) {\n",
    "        output.data['text/html'] = element.innerHTML\n",
    "    }\n",
    "    }\n",
    "    '''),\n",
    "    'application/mytable+json': [[1,2,3],[4,5,6]]\n",
    "}, raw=True)\n"
   ]
  },
  {
   "cell_type": "code",
   "execution_count": null,
   "id": "d0e2be21-8c10-4ef6-a439-eabfe0b64b72",
   "metadata": {},
   "outputs": [],
   "source": []
  }
 ],
 "metadata": {
  "kernelspec": {
   "display_name": "Python 3 (ipykernel)",
   "language": "python",
   "name": "python3"
  },
  "language_info": {
   "codemirror_mode": {
    "name": "ipython",
    "version": 3
   },
   "file_extension": ".py",
   "mimetype": "text/x-python",
   "name": "python",
   "nbconvert_exporter": "python",
   "pygments_lexer": "ipython3",
   "version": "3.10.6"
  }
 },
 "nbformat": 4,
 "nbformat_minor": 5
}
